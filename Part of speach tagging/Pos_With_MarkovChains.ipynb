{
  "nbformat": 4,
  "nbformat_minor": 0,
  "metadata": {
    "colab": {
      "name": "Pos_With_MarkovChains.ipynb",
      "provenance": []
    },
    "kernelspec": {
      "display_name": "Python 3",
      "name": "python3"
    },
    "language_info": {
      "name": "python"
    }
  },
  "cells": [
    {
      "cell_type": "code",
      "metadata": {
        "colab": {
          "base_uri": "https://localhost:8080/"
        },
        "id": "N07iwSzlFg8B",
        "outputId": "58603a8c-df2b-4466-fa7d-bf91fadac68d"
      },
      "source": [
        "# Importing libraries\n",
        "import nltk\n",
        "import numpy as np\n",
        "import pandas as pd\n",
        "import random\n",
        "from sklearn.model_selection import train_test_split\n",
        "import pprint, time\n",
        " \n",
        "#download the treebank corpus from nltk\n",
        "nltk.download('treebank')\n",
        " \n",
        "#download the universal tagset from nltk\n",
        "nltk.download('universal_tagset')\n",
        " \n",
        "# reading the Treebank tagged sentences\n",
        "nltk_data = list(nltk.corpus.treebank.tagged_sents(tagset='universal'))\n",
        " \n",
        "#print the first two sentences along with tags\n",
        "print(nltk_data[:2])"
      ],
      "execution_count": 1,
      "outputs": [
        {
          "output_type": "stream",
          "text": [
            "[nltk_data] Downloading package treebank to /root/nltk_data...\n",
            "[nltk_data]   Unzipping corpora/treebank.zip.\n",
            "[nltk_data] Downloading package universal_tagset to /root/nltk_data...\n",
            "[nltk_data]   Unzipping taggers/universal_tagset.zip.\n",
            "[[('Pierre', 'NOUN'), ('Vinken', 'NOUN'), (',', '.'), ('61', 'NUM'), ('years', 'NOUN'), ('old', 'ADJ'), (',', '.'), ('will', 'VERB'), ('join', 'VERB'), ('the', 'DET'), ('board', 'NOUN'), ('as', 'ADP'), ('a', 'DET'), ('nonexecutive', 'ADJ'), ('director', 'NOUN'), ('Nov.', 'NOUN'), ('29', 'NUM'), ('.', '.')], [('Mr.', 'NOUN'), ('Vinken', 'NOUN'), ('is', 'VERB'), ('chairman', 'NOUN'), ('of', 'ADP'), ('Elsevier', 'NOUN'), ('N.V.', 'NOUN'), (',', '.'), ('the', 'DET'), ('Dutch', 'NOUN'), ('publishing', 'VERB'), ('group', 'NOUN'), ('.', '.')]]\n"
          ],
          "name": "stdout"
        }
      ]
    },
    {
      "cell_type": "code",
      "metadata": {
        "colab": {
          "base_uri": "https://localhost:8080/"
        },
        "id": "yHsc-ljoFhz7",
        "outputId": "c507bff6-be92-4d74-802f-6d16161acaf5"
      },
      "source": [
        "#print each word with its respective tag for first two sentences\n",
        "for sent in nltk_data[:1]:\n",
        "  for tuple in sent:\n",
        "    print(tuple)"
      ],
      "execution_count": 2,
      "outputs": [
        {
          "output_type": "stream",
          "text": [
            "('Pierre', 'NOUN')\n",
            "('Vinken', 'NOUN')\n",
            "(',', '.')\n",
            "('61', 'NUM')\n",
            "('years', 'NOUN')\n",
            "('old', 'ADJ')\n",
            "(',', '.')\n",
            "('will', 'VERB')\n",
            "('join', 'VERB')\n",
            "('the', 'DET')\n",
            "('board', 'NOUN')\n",
            "('as', 'ADP')\n",
            "('a', 'DET')\n",
            "('nonexecutive', 'ADJ')\n",
            "('director', 'NOUN')\n",
            "('Nov.', 'NOUN')\n",
            "('29', 'NUM')\n",
            "('.', '.')\n"
          ],
          "name": "stdout"
        }
      ]
    },
    {
      "cell_type": "code",
      "metadata": {
        "colab": {
          "base_uri": "https://localhost:8080/"
        },
        "id": "F_MpHI2yMHNw",
        "outputId": "99bcaedb-2563-47e5-c6c1-dc71af2620f7"
      },
      "source": [
        "len(nltk_data)"
      ],
      "execution_count": 3,
      "outputs": [
        {
          "output_type": "execute_result",
          "data": {
            "text/plain": [
              "3914"
            ]
          },
          "metadata": {
            "tags": []
          },
          "execution_count": 3
        }
      ]
    },
    {
      "cell_type": "code",
      "metadata": {
        "id": "Fof0Y13lFlea"
      },
      "source": [
        "# split data into training and validation set in the ratio 80:20\n",
        "train_set,test_set =train_test_split(nltk_data,train_size=0.80,test_size=0.20,random_state = 101)"
      ],
      "execution_count": 4,
      "outputs": []
    },
    {
      "cell_type": "code",
      "metadata": {
        "colab": {
          "base_uri": "https://localhost:8080/"
        },
        "id": "STjHykfqFqvb",
        "outputId": "331b535f-9592-4eef-bddf-045c23423375"
      },
      "source": [
        "# create list of train and test tagged words\n",
        "train_tagged_words = [ tup for sent in train_set for tup in sent ]\n",
        "test_tagged_words = [ tup for sent in test_set for tup in sent ]\n",
        "print(len(train_tagged_words))\n",
        "print(len(test_tagged_words))"
      ],
      "execution_count": 5,
      "outputs": [
        {
          "output_type": "stream",
          "text": [
            "80310\n",
            "20366\n"
          ],
          "name": "stdout"
        }
      ]
    },
    {
      "cell_type": "code",
      "metadata": {
        "colab": {
          "base_uri": "https://localhost:8080/"
        },
        "id": "QheoE93rFvNW",
        "outputId": "141bb511-9869-4100-b019-1ec362a6f2fe"
      },
      "source": [
        "# check some of the tagged words.\n",
        "train_tagged_words[:5]"
      ],
      "execution_count": 6,
      "outputs": [
        {
          "output_type": "execute_result",
          "data": {
            "text/plain": [
              "[('Drink', 'NOUN'),\n",
              " ('Carrier', 'NOUN'),\n",
              " ('Competes', 'VERB'),\n",
              " ('With', 'ADP'),\n",
              " ('Cartons', 'NOUN')]"
            ]
          },
          "metadata": {
            "tags": []
          },
          "execution_count": 6
        }
      ]
    },
    {
      "cell_type": "code",
      "metadata": {
        "colab": {
          "base_uri": "https://localhost:8080/"
        },
        "id": "oWp_7z_kFz-6",
        "outputId": "a5df0a03-739c-487d-c3e1-21daec588537"
      },
      "source": [
        "#use set datatype to check how many unique tags are present in training data\n",
        "tags = {tag for word,tag in train_tagged_words}\n",
        "print(len(tags))\n",
        "print(tags)\n",
        " \n",
        "# check total words in vocabulary\n",
        "vocab = {word for word,tag in train_tagged_words}"
      ],
      "execution_count": 7,
      "outputs": [
        {
          "output_type": "stream",
          "text": [
            "12\n",
            "{'CONJ', '.', 'PRT', 'ADJ', 'ADP', 'NUM', 'X', 'DET', 'ADV', 'NOUN', 'VERB', 'PRON'}\n"
          ],
          "name": "stdout"
        }
      ]
    },
    {
      "cell_type": "code",
      "metadata": {
        "id": "grj1nhhpXp5u"
      },
      "source": [
        "def word_given_tag1(word, tag, train_bag = train_tagged_words):\n",
        "    tag_list = [pair for pair in train_bag if pair[1]==tag]\n",
        "    count_tag = len(tag_list)#total number of times the passed tag occurred in train_bag\n",
        "    w_given_tag_list = [pair[0] for pair in tag_list if pair[0]==word]\n",
        "#now calculate the total number of times the passed word occurred as the passed tag.\n",
        "    count_w_given_tag = len(w_given_tag_list)\n",
        " \n",
        "     \n",
        "    return count_w_given_tag/ count_tag"
      ],
      "execution_count": 8,
      "outputs": []
    },
    {
      "cell_type": "code",
      "metadata": {
        "id": "gMOcjZ1FF3iU"
      },
      "source": [
        "# compute Emission Probability\n",
        "memo={}\n",
        "def word_given_tag(word, tag, train_bag = train_tagged_words):\n",
        "    tag_dict=memo.get(word,-1)\n",
        "    if tag_dict!=-1 and tag_dict.get(tag,-1) !=-1:\n",
        "      return memo[word][tag]\n",
        "    tag_list = [pair for pair in train_bag if pair[1]==tag]\n",
        "    count_tag = len(tag_list)#total number of times the passed tag occurred in train_bag\n",
        "    w_given_tag_list = [pair[0] for pair in tag_list if pair[0]==word]\n",
        "#now calculate the total number of times the passed word occurred as the passed tag.\n",
        "    count_w_given_tag = len(w_given_tag_list)\n",
        "    emission_prop=count_w_given_tag/ count_tag\n",
        "    if tag_dict ==-1: \n",
        "      memo[word]={tag:emission_prop}\n",
        "    else :\n",
        "      memo[word][tag]=emission_prop\n",
        " \n",
        "     \n",
        "    return  memo[word][tag]"
      ],
      "execution_count": 9,
      "outputs": []
    },
    {
      "cell_type": "code",
      "metadata": {
        "colab": {
          "base_uri": "https://localhost:8080/"
        },
        "id": "N5Gk7X21VptK",
        "outputId": "9f190f59-9b02-4626-a43a-6385bfe44f11"
      },
      "source": [
        "memo"
      ],
      "execution_count": 10,
      "outputs": [
        {
          "output_type": "execute_result",
          "data": {
            "text/plain": [
              "{}"
            ]
          },
          "metadata": {
            "tags": []
          },
          "execution_count": 10
        }
      ]
    },
    {
      "cell_type": "code",
      "metadata": {
        "id": "UpsY_7W9F6bX"
      },
      "source": [
        "# compute  Transition Probability\n",
        "def t2_given_t1(t2, t1, train_bag = train_tagged_words):\n",
        "    tags = [pair[1] for pair in train_bag]\n",
        "    count_t1 = len([t for t in tags if t==t1])\n",
        "    count_t2_t1 = 0\n",
        "    for index in range(len(tags)-1):\n",
        "        if tags[index]==t1 and tags[index+1] == t2:\n",
        "            count_t2_t1 += 1\n",
        "    return count_t2_t1/count_t1"
      ],
      "execution_count": 11,
      "outputs": []
    },
    {
      "cell_type": "code",
      "metadata": {
        "colab": {
          "base_uri": "https://localhost:8080/"
        },
        "id": "YF9-pZZkGAyd",
        "outputId": "ba55ef72-f4dd-4340-9e96-73cd837d24ce"
      },
      "source": [
        "# creating t x t transition matrix of tags, t= no of tags\n",
        "# Matrix(i, j) represents P(jth tag after the ith tag)\n",
        " \n",
        "tags_matrix = np.zeros((len(tags), len(tags)), dtype='float32')\n",
        "for i, t1 in enumerate(list(tags)):\n",
        "    for j, t2 in enumerate(list(tags)): \n",
        "        tags_matrix[i, j] = t2_given_t1(t2, t1)\n",
        " \n",
        "print(tags_matrix)"
      ],
      "execution_count": 12,
      "outputs": [
        {
          "output_type": "stream",
          "text": [
            "[[5.48847427e-04 3.51262353e-02 4.39077942e-03 1.13611415e-01\n",
            "  5.59824370e-02 4.06147093e-02 9.33040585e-03 1.23490669e-01\n",
            "  5.70801310e-02 3.49066973e-01 1.50384188e-01 6.03732169e-02]\n",
            " [6.00793920e-02 9.23720598e-02 2.78940029e-03 4.61323895e-02\n",
            "  9.29084867e-02 7.82104954e-02 2.56410260e-02 1.72191828e-01\n",
            "  5.25694676e-02 2.18538776e-01 8.96899477e-02 6.87694475e-02]\n",
            " [2.34833662e-03 4.50097844e-02 1.17416831e-03 8.29745606e-02\n",
            "  1.95694715e-02 5.67514673e-02 1.21330721e-02 1.01369865e-01\n",
            "  9.39334650e-03 2.50489235e-01 4.01174158e-01 1.76125243e-02]\n",
            " [1.68932043e-02 6.60194159e-02 1.14563107e-02 6.33009672e-02\n",
            "  8.05825219e-02 2.17475723e-02 2.09708735e-02 5.24271838e-03\n",
            "  5.24271838e-03 6.96893215e-01 1.14563107e-02 1.94174761e-04]\n",
            " [1.01240189e-03 3.87243740e-02 1.26550242e-03 1.07061505e-01\n",
            "  1.69577319e-02 6.32751212e-02 3.45482156e-02 3.20931405e-01\n",
            "  1.45532778e-02 3.23588967e-01 8.47886596e-03 6.96026310e-02]\n",
            " [1.42806144e-02 1.19243130e-01 2.60621198e-02 3.53445187e-02\n",
            "  3.74866128e-02 1.84219927e-01 2.02427700e-01 3.57015361e-03\n",
            "  3.57015361e-03 3.51660132e-01 2.07068902e-02 1.42806140e-03]\n",
            " [1.03786280e-02 1.60868734e-01 1.85085520e-01 1.76821072e-02\n",
            "  1.42225638e-01 3.07514891e-03 7.57255405e-02 5.68902567e-02\n",
            "  2.57543717e-02 6.16951771e-02 2.06419379e-01 5.41995019e-02]\n",
            " [4.31220367e-04 1.73925534e-02 2.87480245e-04 2.06410810e-01\n",
            "  9.91806854e-03 2.28546783e-02 4.51343954e-02 6.03708485e-03\n",
            "  1.20741697e-02 6.35906279e-01 4.02472317e-02 3.30602261e-03]\n",
            " [6.98215654e-03 1.39255241e-01 1.47401085e-02 1.30721495e-01\n",
            "  1.19472459e-01 2.98681147e-02 2.28859577e-02 7.13731572e-02\n",
            "  8.14584941e-02 3.21955010e-02 3.39022487e-01 1.20248254e-02]\n",
            " [4.24540639e-02 2.40094051e-01 4.39345129e-02 1.25838192e-02\n",
            "  1.76826611e-01 9.14395228e-03 2.88252197e-02 1.31063312e-02\n",
            "  1.68945398e-02 2.62344331e-01 1.49133503e-01 4.65906132e-03]\n",
            " [5.43278083e-03 3.48066315e-02 3.06629837e-02 6.63904250e-02\n",
            "  9.23572779e-02 2.28360966e-02 2.15930015e-01 1.33609578e-01\n",
            "  8.38858187e-02 1.10589318e-01 1.67955801e-01 3.55432779e-02]\n",
            " [5.01138950e-03 4.19134386e-02 1.41230067e-02 7.06150308e-02\n",
            "  2.23234631e-02 6.83371304e-03 8.83826911e-02 9.56719834e-03\n",
            "  3.69020514e-02 2.12756261e-01 4.84738052e-01 6.83371304e-03]]\n"
          ],
          "name": "stdout"
        }
      ]
    },
    {
      "cell_type": "code",
      "metadata": {
        "colab": {
          "base_uri": "https://localhost:8080/"
        },
        "id": "bD1yQvS_bEe7",
        "outputId": "1e89debd-e2e9-4d86-e65d-6c7d70e31934"
      },
      "source": [
        "len(tags)"
      ],
      "execution_count": 13,
      "outputs": [
        {
          "output_type": "execute_result",
          "data": {
            "text/plain": [
              "12"
            ]
          },
          "metadata": {
            "tags": []
          },
          "execution_count": 13
        }
      ]
    },
    {
      "cell_type": "code",
      "metadata": {
        "colab": {
          "base_uri": "https://localhost:8080/",
          "height": 418
        },
        "id": "0HUmkFM_GECn",
        "outputId": "49e677e7-2b89-4482-d830-b4c23ca7f3ad"
      },
      "source": [
        "# convert the matrix to a df for better readability\n",
        "#the table is same as the transition table shown in section 3 of article\n",
        "tags_df = pd.DataFrame(tags_matrix, columns = list(tags), index=list(tags))\n",
        "display(tags_df)"
      ],
      "execution_count": 14,
      "outputs": [
        {
          "output_type": "display_data",
          "data": {
            "text/html": [
              "<div>\n",
              "<style scoped>\n",
              "    .dataframe tbody tr th:only-of-type {\n",
              "        vertical-align: middle;\n",
              "    }\n",
              "\n",
              "    .dataframe tbody tr th {\n",
              "        vertical-align: top;\n",
              "    }\n",
              "\n",
              "    .dataframe thead th {\n",
              "        text-align: right;\n",
              "    }\n",
              "</style>\n",
              "<table border=\"1\" class=\"dataframe\">\n",
              "  <thead>\n",
              "    <tr style=\"text-align: right;\">\n",
              "      <th></th>\n",
              "      <th>CONJ</th>\n",
              "      <th>.</th>\n",
              "      <th>PRT</th>\n",
              "      <th>ADJ</th>\n",
              "      <th>ADP</th>\n",
              "      <th>NUM</th>\n",
              "      <th>X</th>\n",
              "      <th>DET</th>\n",
              "      <th>ADV</th>\n",
              "      <th>NOUN</th>\n",
              "      <th>VERB</th>\n",
              "      <th>PRON</th>\n",
              "    </tr>\n",
              "  </thead>\n",
              "  <tbody>\n",
              "    <tr>\n",
              "      <th>CONJ</th>\n",
              "      <td>0.000549</td>\n",
              "      <td>0.035126</td>\n",
              "      <td>0.004391</td>\n",
              "      <td>0.113611</td>\n",
              "      <td>0.055982</td>\n",
              "      <td>0.040615</td>\n",
              "      <td>0.009330</td>\n",
              "      <td>0.123491</td>\n",
              "      <td>0.057080</td>\n",
              "      <td>0.349067</td>\n",
              "      <td>0.150384</td>\n",
              "      <td>0.060373</td>\n",
              "    </tr>\n",
              "    <tr>\n",
              "      <th>.</th>\n",
              "      <td>0.060079</td>\n",
              "      <td>0.092372</td>\n",
              "      <td>0.002789</td>\n",
              "      <td>0.046132</td>\n",
              "      <td>0.092908</td>\n",
              "      <td>0.078210</td>\n",
              "      <td>0.025641</td>\n",
              "      <td>0.172192</td>\n",
              "      <td>0.052569</td>\n",
              "      <td>0.218539</td>\n",
              "      <td>0.089690</td>\n",
              "      <td>0.068769</td>\n",
              "    </tr>\n",
              "    <tr>\n",
              "      <th>PRT</th>\n",
              "      <td>0.002348</td>\n",
              "      <td>0.045010</td>\n",
              "      <td>0.001174</td>\n",
              "      <td>0.082975</td>\n",
              "      <td>0.019569</td>\n",
              "      <td>0.056751</td>\n",
              "      <td>0.012133</td>\n",
              "      <td>0.101370</td>\n",
              "      <td>0.009393</td>\n",
              "      <td>0.250489</td>\n",
              "      <td>0.401174</td>\n",
              "      <td>0.017613</td>\n",
              "    </tr>\n",
              "    <tr>\n",
              "      <th>ADJ</th>\n",
              "      <td>0.016893</td>\n",
              "      <td>0.066019</td>\n",
              "      <td>0.011456</td>\n",
              "      <td>0.063301</td>\n",
              "      <td>0.080583</td>\n",
              "      <td>0.021748</td>\n",
              "      <td>0.020971</td>\n",
              "      <td>0.005243</td>\n",
              "      <td>0.005243</td>\n",
              "      <td>0.696893</td>\n",
              "      <td>0.011456</td>\n",
              "      <td>0.000194</td>\n",
              "    </tr>\n",
              "    <tr>\n",
              "      <th>ADP</th>\n",
              "      <td>0.001012</td>\n",
              "      <td>0.038724</td>\n",
              "      <td>0.001266</td>\n",
              "      <td>0.107062</td>\n",
              "      <td>0.016958</td>\n",
              "      <td>0.063275</td>\n",
              "      <td>0.034548</td>\n",
              "      <td>0.320931</td>\n",
              "      <td>0.014553</td>\n",
              "      <td>0.323589</td>\n",
              "      <td>0.008479</td>\n",
              "      <td>0.069603</td>\n",
              "    </tr>\n",
              "    <tr>\n",
              "      <th>NUM</th>\n",
              "      <td>0.014281</td>\n",
              "      <td>0.119243</td>\n",
              "      <td>0.026062</td>\n",
              "      <td>0.035345</td>\n",
              "      <td>0.037487</td>\n",
              "      <td>0.184220</td>\n",
              "      <td>0.202428</td>\n",
              "      <td>0.003570</td>\n",
              "      <td>0.003570</td>\n",
              "      <td>0.351660</td>\n",
              "      <td>0.020707</td>\n",
              "      <td>0.001428</td>\n",
              "    </tr>\n",
              "    <tr>\n",
              "      <th>X</th>\n",
              "      <td>0.010379</td>\n",
              "      <td>0.160869</td>\n",
              "      <td>0.185086</td>\n",
              "      <td>0.017682</td>\n",
              "      <td>0.142226</td>\n",
              "      <td>0.003075</td>\n",
              "      <td>0.075726</td>\n",
              "      <td>0.056890</td>\n",
              "      <td>0.025754</td>\n",
              "      <td>0.061695</td>\n",
              "      <td>0.206419</td>\n",
              "      <td>0.054200</td>\n",
              "    </tr>\n",
              "    <tr>\n",
              "      <th>DET</th>\n",
              "      <td>0.000431</td>\n",
              "      <td>0.017393</td>\n",
              "      <td>0.000287</td>\n",
              "      <td>0.206411</td>\n",
              "      <td>0.009918</td>\n",
              "      <td>0.022855</td>\n",
              "      <td>0.045134</td>\n",
              "      <td>0.006037</td>\n",
              "      <td>0.012074</td>\n",
              "      <td>0.635906</td>\n",
              "      <td>0.040247</td>\n",
              "      <td>0.003306</td>\n",
              "    </tr>\n",
              "    <tr>\n",
              "      <th>ADV</th>\n",
              "      <td>0.006982</td>\n",
              "      <td>0.139255</td>\n",
              "      <td>0.014740</td>\n",
              "      <td>0.130721</td>\n",
              "      <td>0.119472</td>\n",
              "      <td>0.029868</td>\n",
              "      <td>0.022886</td>\n",
              "      <td>0.071373</td>\n",
              "      <td>0.081458</td>\n",
              "      <td>0.032196</td>\n",
              "      <td>0.339022</td>\n",
              "      <td>0.012025</td>\n",
              "    </tr>\n",
              "    <tr>\n",
              "      <th>NOUN</th>\n",
              "      <td>0.042454</td>\n",
              "      <td>0.240094</td>\n",
              "      <td>0.043935</td>\n",
              "      <td>0.012584</td>\n",
              "      <td>0.176827</td>\n",
              "      <td>0.009144</td>\n",
              "      <td>0.028825</td>\n",
              "      <td>0.013106</td>\n",
              "      <td>0.016895</td>\n",
              "      <td>0.262344</td>\n",
              "      <td>0.149134</td>\n",
              "      <td>0.004659</td>\n",
              "    </tr>\n",
              "    <tr>\n",
              "      <th>VERB</th>\n",
              "      <td>0.005433</td>\n",
              "      <td>0.034807</td>\n",
              "      <td>0.030663</td>\n",
              "      <td>0.066390</td>\n",
              "      <td>0.092357</td>\n",
              "      <td>0.022836</td>\n",
              "      <td>0.215930</td>\n",
              "      <td>0.133610</td>\n",
              "      <td>0.083886</td>\n",
              "      <td>0.110589</td>\n",
              "      <td>0.167956</td>\n",
              "      <td>0.035543</td>\n",
              "    </tr>\n",
              "    <tr>\n",
              "      <th>PRON</th>\n",
              "      <td>0.005011</td>\n",
              "      <td>0.041913</td>\n",
              "      <td>0.014123</td>\n",
              "      <td>0.070615</td>\n",
              "      <td>0.022323</td>\n",
              "      <td>0.006834</td>\n",
              "      <td>0.088383</td>\n",
              "      <td>0.009567</td>\n",
              "      <td>0.036902</td>\n",
              "      <td>0.212756</td>\n",
              "      <td>0.484738</td>\n",
              "      <td>0.006834</td>\n",
              "    </tr>\n",
              "  </tbody>\n",
              "</table>\n",
              "</div>"
            ],
            "text/plain": [
              "          CONJ         .       PRT  ...      NOUN      VERB      PRON\n",
              "CONJ  0.000549  0.035126  0.004391  ...  0.349067  0.150384  0.060373\n",
              ".     0.060079  0.092372  0.002789  ...  0.218539  0.089690  0.068769\n",
              "PRT   0.002348  0.045010  0.001174  ...  0.250489  0.401174  0.017613\n",
              "ADJ   0.016893  0.066019  0.011456  ...  0.696893  0.011456  0.000194\n",
              "ADP   0.001012  0.038724  0.001266  ...  0.323589  0.008479  0.069603\n",
              "NUM   0.014281  0.119243  0.026062  ...  0.351660  0.020707  0.001428\n",
              "X     0.010379  0.160869  0.185086  ...  0.061695  0.206419  0.054200\n",
              "DET   0.000431  0.017393  0.000287  ...  0.635906  0.040247  0.003306\n",
              "ADV   0.006982  0.139255  0.014740  ...  0.032196  0.339022  0.012025\n",
              "NOUN  0.042454  0.240094  0.043935  ...  0.262344  0.149134  0.004659\n",
              "VERB  0.005433  0.034807  0.030663  ...  0.110589  0.167956  0.035543\n",
              "PRON  0.005011  0.041913  0.014123  ...  0.212756  0.484738  0.006834\n",
              "\n",
              "[12 rows x 12 columns]"
            ]
          },
          "metadata": {
            "tags": []
          }
        }
      ]
    },
    {
      "cell_type": "code",
      "metadata": {
        "id": "HUpmvU2jGHTx"
      },
      "source": [
        "def Viterbi(words, train_bag = train_tagged_words):\n",
        "    state = []\n",
        "    T = list(set([pair[1] for pair in train_bag]))\n",
        "     \n",
        "    for key, word in enumerate(words):\n",
        "        #initialise list of probability column for a given observation\n",
        "        p = [] \n",
        "        for tag in T:\n",
        "            if key == 0:\n",
        "                transition_p = tags_df.loc['X', tag]\n",
        "            else:\n",
        "                transition_p = tags_df.loc[state[-1], tag]\n",
        "                 \n",
        "            # compute emission and state probabilities\n",
        "            emission_p = word_given_tag(words[key], tag)\n",
        "            state_probability =emission_p* transition_p    \n",
        "            p.append(state_probability)\n",
        "        pmax = max(p)\n",
        "        # getting state for which probability is maximum\n",
        "        state_max = T[p.index(pmax)] \n",
        "        state.append(state_max)\n",
        "    return list(zip(words, state))"
      ],
      "execution_count": 15,
      "outputs": []
    },
    {
      "cell_type": "markdown",
      "metadata": {
        "id": "m_zDT5FOct1d"
      },
      "source": [
        "O(#Words * #Tags  * len(train_bag))"
      ]
    },
    {
      "cell_type": "code",
      "metadata": {
        "colab": {
          "base_uri": "https://localhost:8080/"
        },
        "id": "erN6_U6oGKHL",
        "outputId": "d641dcf1-3b6c-4721-b3c3-9a1d80d9834d"
      },
      "source": [
        "# Let's test our Viterbi algorithm on a few sample sentences of test dataset\n",
        "random.seed(1234)      #define a random seed to get same sentences when run multiple times\n",
        " \n",
        "# choose random 10 numbers\n",
        "rndom = [random.randint(1,len(test_set)-1) for _ in range(100)]\n",
        "# list of 10 sents on which we test the model\n",
        "test_run = [test_set[i] for i in rndom]\n",
        " \n",
        "# list of tagged words\n",
        "test_run_base = [tup for sent in test_run for tup in sent]\n",
        " \n",
        "# list of untagged words\n",
        "test_tagged_words = [tup[0] for sent in test_run for tup in sent]\n",
        "print(len(test_tagged_words))"
      ],
      "execution_count": 16,
      "outputs": [
        {
          "output_type": "stream",
          "text": [
            "2557\n"
          ],
          "name": "stdout"
        }
      ]
    },
    {
      "cell_type": "code",
      "metadata": {
        "colab": {
          "base_uri": "https://localhost:8080/"
        },
        "id": "eOoirPKPGNKS",
        "outputId": "26e99a00-1e4a-494d-b0b6-224ebbaf49de"
      },
      "source": [
        "#Here We will only test 10 sentences to check the accuracy\n",
        "#as testing the whole training set takes huge amount of time\n",
        "start = time.time()\n",
        "tagged_seq = Viterbi(test_tagged_words)\n",
        "end = time.time()\n",
        "difference = end-start\n",
        " \n",
        "print(\"Time taken in seconds: \", difference)\n",
        " \n",
        "# accuracy\n",
        "check = [i for i, j in zip(tagged_seq, test_run_base) if i == j] \n",
        " \n",
        "accuracy = len(check)/len(tagged_seq)\n",
        "print('Viterbi Algorithm Accuracy: ',accuracy*100)"
      ],
      "execution_count": 17,
      "outputs": [
        {
          "output_type": "stream",
          "text": [
            "Time taken in seconds:  92.17855429649353\n",
            "Viterbi Algorithm Accuracy:  91.00508408290966\n"
          ],
          "name": "stdout"
        }
      ]
    },
    {
      "cell_type": "code",
      "metadata": {
        "colab": {
          "base_uri": "https://localhost:8080/"
        },
        "id": "6SLWxrBVbLLd",
        "outputId": "716c963f-156a-4713-af04-dc38a4aefc49"
      },
      "source": [
        "sent='All my sins need holy water, feel it washing over me .'\n",
        "words=sent.split()\n",
        "# words=[ tup[0] for tup in test_set[0]]\n",
        "print(sent)\n",
        "start = time.time()\n",
        "tagged_seq = Viterbi(words)\n",
        "end = time.time()\n",
        "difference = end-start\n",
        " \n",
        "print(\"Time taken in seconds: \", difference)\n",
        "print(tagged_seq)"
      ],
      "execution_count": 18,
      "outputs": [
        {
          "output_type": "stream",
          "text": [
            "All my sins need holy water, feel it washing over me .\n",
            "Time taken in seconds:  0.35845255851745605\n",
            "[('All', 'DET'), ('my', 'PRON'), ('sins', 'CONJ'), ('need', 'VERB'), ('holy', 'CONJ'), ('water,', 'CONJ'), ('feel', 'VERB'), ('it', 'PRON'), ('washing', 'CONJ'), ('over', 'ADP'), ('me', 'PRON'), ('.', '.')]\n"
          ],
          "name": "stdout"
        }
      ]
    },
    {
      "cell_type": "code",
      "metadata": {
        "colab": {
          "base_uri": "https://localhost:8080/"
        },
        "id": "jjJZ_D0kVd9r",
        "outputId": "267d6336-d6a2-462e-dc33-118ec09dad72"
      },
      "source": [
        "len(test_tagged_words)"
      ],
      "execution_count": null,
      "outputs": [
        {
          "output_type": "execute_result",
          "data": {
            "text/plain": [
              "2557"
            ]
          },
          "metadata": {
            "tags": []
          },
          "execution_count": 45
        }
      ]
    },
    {
      "cell_type": "code",
      "metadata": {
        "colab": {
          "base_uri": "https://localhost:8080/"
        },
        "id": "Qolq9bwpYVCt",
        "outputId": "1989c685-dfc1-4897-dce8-1a2d908a0550"
      },
      "source": [
        "print(len(test_set))"
      ],
      "execution_count": null,
      "outputs": [
        {
          "output_type": "stream",
          "text": [
            "783\n"
          ],
          "name": "stdout"
        }
      ]
    },
    {
      "cell_type": "code",
      "metadata": {
        "colab": {
          "base_uri": "https://localhost:8080/"
        },
        "id": "ReBroT5uGQrt",
        "outputId": "6fab0e90-f117-4cfb-800c-e4ced7fe40d7"
      },
      "source": [
        "#Code to test all the test sentences\n",
        "#(takes alot of time to run s0 we wont run it here)\n",
        "# tagging the test sentences()\n",
        "test_tagged_words = [tup for sent in test_set for tup in sent]\n",
        "test_untagged_words = [tup[0] for sent in test_set for tup in sent]\n",
        "test_untagged_words\n",
        "print(len(test_untagged_words))\n",
        "start = time.time()\n",
        "tagged_seq = Viterbi(test_untagged_words)\n",
        "end = time.time()\n",
        "difference = end-start\n",
        " \n",
        "print(\"Time taken in seconds: \", difference)\n",
        " \n",
        "# accuracy\n",
        "check = [i for i, j in zip(test_tagged_words, test_untagged_words) if i == j] \n",
        " \n",
        "accuracy = len(check)/len(tagged_seq)\n",
        "print('Viterbi Algorithm Accuracy: ',accuracy*100)"
      ],
      "execution_count": null,
      "outputs": [
        {
          "output_type": "stream",
          "text": [
            "20366\n"
          ],
          "name": "stdout"
        }
      ]
    },
    {
      "cell_type": "code",
      "metadata": {
        "id": "3J-UU5KRGTod"
      },
      "source": [
        "#To improve the performance,we specify a rule base tagger for unknown words \n",
        "# specify patterns for tagging\n",
        "patterns = [\n",
        "    (r'.*ing$', 'VERB'),              # gerund\n",
        "    (r'.*ed$', 'VERB'),               # past tense \n",
        "    (r'.*es$', 'VERB'),               # verb    \n",
        "    (r'.*\\'s$', 'NOUN'),              # possessive nouns\n",
        "    (r'.*s$', 'NOUN'),                # plural nouns\n",
        "    (r'\\*T?\\*?-[0-9]+$', 'X'),        # X\n",
        "    (r'^-?[0-9]+(.[0-9]+)?$', 'NUM'), # cardinal numbers\n",
        "    (r'.*', 'NOUN')                   # nouns\n",
        "]\n",
        " \n",
        "# rule based tagger\n",
        "rule_based_tagger = nltk.RegexpTagger(patterns)"
      ],
      "execution_count": 19,
      "outputs": []
    },
    {
      "cell_type": "code",
      "metadata": {
        "id": "_GfjKbZ1GVyG"
      },
      "source": [
        "#modified Viterbi to include rule based tagger in it\n",
        "def Viterbi_rule_based(words, train_bag = train_tagged_words):\n",
        "    state = []\n",
        "    T = list(set([pair[1] for pair in train_bag]))\n",
        "     \n",
        "    for key, word in enumerate(words):\n",
        "        #initialise list of probability column for a given observation\n",
        "        p = [] \n",
        "        for tag in T:\n",
        "            if key == 0:\n",
        "                transition_p = tags_df.loc['.', tag]\n",
        "            else:\n",
        "                transition_p = tags_df.loc[state[-1], tag]\n",
        "                 \n",
        "            # compute emission and state probabilities\n",
        "            emission_p = word_given_tag(words[key], tag)\n",
        "            state_probability = emission_p * transition_p    \n",
        "            p.append(state_probability)\n",
        "             \n",
        "        pmax = max(p)\n",
        "        state_max = rule_based_tagger.tag([word])[0][1]       \n",
        "        \n",
        "         \n",
        "        if(pmax==0):\n",
        "            state_max = rule_based_tagger.tag([word])[0][1] # assign based on rule based tagger\n",
        "        else:\n",
        "            if state_max != 'X':\n",
        "                # getting state for which probability is maximum\n",
        "                state_max = T[p.index(pmax)]                \n",
        "             \n",
        "         \n",
        "        state.append(state_max)\n",
        "    return list(zip(words, state))"
      ],
      "execution_count": 26,
      "outputs": []
    },
    {
      "cell_type": "code",
      "metadata": {
        "colab": {
          "base_uri": "https://localhost:8080/"
        },
        "id": "6uRkzs4jGY02",
        "outputId": "203d0c16-2d66-42e7-8a8b-78f5cdcc664d"
      },
      "source": [
        "#test accuracy on subset of test data \n",
        "start = time.time()\n",
        "tagged_seq = Viterbi_rule_based(test_tagged_words)\n",
        "end = time.time()\n",
        "difference = end-start\n",
        " \n",
        "print(\"Time taken in seconds: \", difference)\n",
        " \n",
        "# accuracy\n",
        "check = [i for i, j in zip(tagged_seq, test_run_base) if i == j] \n",
        " \n",
        "accuracy = len(check)/len(tagged_seq)\n",
        "print('Viterbi Algorithm Accuracy: ',accuracy*100)"
      ],
      "execution_count": 27,
      "outputs": [
        {
          "output_type": "stream",
          "text": [
            "Time taken in seconds:  0.4493680000305176\n",
            "Viterbi Algorithm Accuracy:  95.30700039108329\n"
          ],
          "name": "stdout"
        }
      ]
    },
    {
      "cell_type": "code",
      "metadata": {
        "colab": {
          "base_uri": "https://localhost:8080/"
        },
        "id": "ShhBgy2VGbQ0",
        "outputId": "b76172aa-ad64-4b9d-d196-6bc1bd4b12ac"
      },
      "source": [
        "#Check how a sentence is tagged by the two POS taggers\n",
        "#and compare them\n",
        "test_sent=\"Will can see Marry\"\n",
        "pred_tags_rule=Viterbi_rule_based(test_sent.split())\n",
        "pred_tags_withoutRules= Viterbi(test_sent.split())\n",
        "print(pred_tags_rule)\n",
        "print(pred_tags_withoutRules)\n",
        "#Will and Marry are tagged as NUM as they are unknown words for Viterbi Algorithm "
      ],
      "execution_count": 28,
      "outputs": [
        {
          "output_type": "stream",
          "text": [
            "[('Will', 'NOUN'), ('can', 'VERB'), ('see', 'VERB'), ('Marry', 'NOUN')]\n",
            "[('Will', 'CONJ'), ('can', 'VERB'), ('see', 'VERB'), ('Marry', 'CONJ')]\n"
          ],
          "name": "stdout"
        }
      ]
    },
    {
      "cell_type": "code",
      "metadata": {
        "colab": {
          "background_save": true
        },
        "id": "uqpTqq9yGe3u"
      },
      "source": [
        ""
      ],
      "execution_count": null,
      "outputs": []
    }
  ]
}